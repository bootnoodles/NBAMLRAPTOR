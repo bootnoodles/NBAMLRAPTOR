{
  "nbformat": 4,
  "nbformat_minor": 0,
  "metadata": {
    "colab": {
      "name": "NBAMLRAPTOR.ipynb",
      "provenance": [],
      "collapsed_sections": [],
      "toc_visible": true,
      "authorship_tag": "ABX9TyP0picg0g/UvOF0ELkG0hKE",
      "include_colab_link": true
    },
    "kernelspec": {
      "name": "python3",
      "display_name": "Python 3"
    }
  },
  "cells": [
    {
      "cell_type": "markdown",
      "metadata": {
        "id": "view-in-github",
        "colab_type": "text"
      },
      "source": [
        "<a href=\"https://colab.research.google.com/github/bootnoodles/NBAMLRAPTOR/blob/master/NBAMLRAPTOR.ipynb\" target=\"_parent\"><img src=\"https://colab.research.google.com/assets/colab-badge.svg\" alt=\"Open In Colab\"/></a>"
      ]
    },
    {
      "cell_type": "code",
      "metadata": {
        "id": "v7odZVGzu7PY",
        "colab_type": "code",
        "colab": {}
      },
      "source": [
        "import numpy as np \n",
        "import pandas as pd \n",
        "import matplotlib.pyplot as plt"
      ],
      "execution_count": 4,
      "outputs": []
    },
    {
      "cell_type": "code",
      "metadata": {
        "id": "f3LDlRsbvHO8",
        "colab_type": "code",
        "colab": {}
      },
      "source": [
        "df = pd.read_csv('/content/data.csv')"
      ],
      "execution_count": 5,
      "outputs": []
    },
    {
      "cell_type": "code",
      "metadata": {
        "id": "ROoJ0dwiSLWW",
        "colab_type": "code",
        "colab": {}
      },
      "source": [
        "df2 = pd.read_csv('/content/posclean.csv')"
      ],
      "execution_count": 6,
      "outputs": []
    },
    {
      "cell_type": "code",
      "metadata": {
        "id": "hDb6VOlcSQno",
        "colab_type": "code",
        "colab": {}
      },
      "source": [
        "df = pd.merge(df, df2, how='inner', on='player_name')"
      ],
      "execution_count": 7,
      "outputs": []
    },
    {
      "cell_type": "code",
      "metadata": {
        "id": "InyrDqM_YVPY",
        "colab_type": "code",
        "colab": {
          "base_uri": "https://localhost:8080/",
          "height": 206
        },
        "outputId": "14b9d3cc-e62b-4aff-c9b4-7456f3a61792"
      },
      "source": [
        "df.head()"
      ],
      "execution_count": 8,
      "outputs": [
        {
          "output_type": "execute_result",
          "data": {
            "text/html": [
              "<div>\n",
              "<style scoped>\n",
              "    .dataframe tbody tr th:only-of-type {\n",
              "        vertical-align: middle;\n",
              "    }\n",
              "\n",
              "    .dataframe tbody tr th {\n",
              "        vertical-align: top;\n",
              "    }\n",
              "\n",
              "    .dataframe thead th {\n",
              "        text-align: right;\n",
              "    }\n",
              "</style>\n",
              "<table border=\"1\" class=\"dataframe\">\n",
              "  <thead>\n",
              "    <tr style=\"text-align: right;\">\n",
              "      <th></th>\n",
              "      <th>player_name</th>\n",
              "      <th>age</th>\n",
              "      <th>player_height</th>\n",
              "      <th>player_weight</th>\n",
              "      <th>net_rating</th>\n",
              "      <th>raptor_offense</th>\n",
              "      <th>raptor_defense</th>\n",
              "      <th>raptor_total</th>\n",
              "      <th>war_total</th>\n",
              "      <th>predator_total</th>\n",
              "      <th>pos</th>\n",
              "    </tr>\n",
              "  </thead>\n",
              "  <tbody>\n",
              "    <tr>\n",
              "      <th>0</th>\n",
              "      <td>A.C. Green</td>\n",
              "      <td>35.0</td>\n",
              "      <td>205.74</td>\n",
              "      <td>102.058200</td>\n",
              "      <td>-1.880000</td>\n",
              "      <td>-0.294070</td>\n",
              "      <td>0.208818</td>\n",
              "      <td>-0.085252</td>\n",
              "      <td>3.759939</td>\n",
              "      <td>-0.339975</td>\n",
              "      <td>2</td>\n",
              "    </tr>\n",
              "    <tr>\n",
              "      <th>1</th>\n",
              "      <td>A.J. Bramlett</td>\n",
              "      <td>23.0</td>\n",
              "      <td>208.28</td>\n",
              "      <td>102.965384</td>\n",
              "      <td>-32.600000</td>\n",
              "      <td>-8.360250</td>\n",
              "      <td>-1.460235</td>\n",
              "      <td>-9.820485</td>\n",
              "      <td>-0.221281</td>\n",
              "      <td>-8.993465</td>\n",
              "      <td>2</td>\n",
              "    </tr>\n",
              "    <tr>\n",
              "      <th>2</th>\n",
              "      <td>A.J. Guyton</td>\n",
              "      <td>24.0</td>\n",
              "      <td>185.42</td>\n",
              "      <td>81.646560</td>\n",
              "      <td>-6.700000</td>\n",
              "      <td>-4.140556</td>\n",
              "      <td>-1.434026</td>\n",
              "      <td>-5.574582</td>\n",
              "      <td>-0.077551</td>\n",
              "      <td>-6.324631</td>\n",
              "      <td>1</td>\n",
              "    </tr>\n",
              "    <tr>\n",
              "      <th>3</th>\n",
              "      <td>Aaron Brooks</td>\n",
              "      <td>28.1</td>\n",
              "      <td>182.88</td>\n",
              "      <td>73.028312</td>\n",
              "      <td>-3.310000</td>\n",
              "      <td>0.160595</td>\n",
              "      <td>-2.531127</td>\n",
              "      <td>-2.370531</td>\n",
              "      <td>0.871362</td>\n",
              "      <td>-2.100771</td>\n",
              "      <td>1</td>\n",
              "    </tr>\n",
              "    <tr>\n",
              "      <th>4</th>\n",
              "      <td>Aaron Gray</td>\n",
              "      <td>26.0</td>\n",
              "      <td>213.36</td>\n",
              "      <td>122.469840</td>\n",
              "      <td>-4.728571</td>\n",
              "      <td>-2.667134</td>\n",
              "      <td>-0.114848</td>\n",
              "      <td>-2.781982</td>\n",
              "      <td>-0.042847</td>\n",
              "      <td>-2.948072</td>\n",
              "      <td>3</td>\n",
              "    </tr>\n",
              "  </tbody>\n",
              "</table>\n",
              "</div>"
            ],
            "text/plain": [
              "     player_name   age  player_height  ...  war_total  predator_total  pos\n",
              "0     A.C. Green  35.0         205.74  ...   3.759939       -0.339975    2\n",
              "1  A.J. Bramlett  23.0         208.28  ...  -0.221281       -8.993465    2\n",
              "2    A.J. Guyton  24.0         185.42  ...  -0.077551       -6.324631    1\n",
              "3   Aaron Brooks  28.1         182.88  ...   0.871362       -2.100771    1\n",
              "4     Aaron Gray  26.0         213.36  ...  -0.042847       -2.948072    3\n",
              "\n",
              "[5 rows x 11 columns]"
            ]
          },
          "metadata": {
            "tags": []
          },
          "execution_count": 8
        }
      ]
    },
    {
      "cell_type": "code",
      "metadata": {
        "id": "bitj6n4ZYUql",
        "colab_type": "code",
        "colab": {}
      },
      "source": [
        ""
      ],
      "execution_count": 8,
      "outputs": []
    },
    {
      "cell_type": "code",
      "metadata": {
        "id": "_3S65iYcvZDB",
        "colab_type": "code",
        "colab": {}
      },
      "source": [
        "droplist = ['war_total', 'predator_total', 'raptor_defense', \n",
        "            'raptor_offense', 'net_rating', 'player_name']\n",
        "df = df.drop(droplist, axis=1)"
      ],
      "execution_count": 9,
      "outputs": []
    },
    {
      "cell_type": "code",
      "metadata": {
        "id": "oOw0w9rUYom5",
        "colab_type": "code",
        "colab": {
          "base_uri": "https://localhost:8080/",
          "height": 206
        },
        "outputId": "fbda8e17-bc7c-4e39-a8e0-f68b0b0845e0"
      },
      "source": [
        "df.head()"
      ],
      "execution_count": 10,
      "outputs": [
        {
          "output_type": "execute_result",
          "data": {
            "text/html": [
              "<div>\n",
              "<style scoped>\n",
              "    .dataframe tbody tr th:only-of-type {\n",
              "        vertical-align: middle;\n",
              "    }\n",
              "\n",
              "    .dataframe tbody tr th {\n",
              "        vertical-align: top;\n",
              "    }\n",
              "\n",
              "    .dataframe thead th {\n",
              "        text-align: right;\n",
              "    }\n",
              "</style>\n",
              "<table border=\"1\" class=\"dataframe\">\n",
              "  <thead>\n",
              "    <tr style=\"text-align: right;\">\n",
              "      <th></th>\n",
              "      <th>age</th>\n",
              "      <th>player_height</th>\n",
              "      <th>player_weight</th>\n",
              "      <th>raptor_total</th>\n",
              "      <th>pos</th>\n",
              "    </tr>\n",
              "  </thead>\n",
              "  <tbody>\n",
              "    <tr>\n",
              "      <th>0</th>\n",
              "      <td>35.0</td>\n",
              "      <td>205.74</td>\n",
              "      <td>102.058200</td>\n",
              "      <td>-0.085252</td>\n",
              "      <td>2</td>\n",
              "    </tr>\n",
              "    <tr>\n",
              "      <th>1</th>\n",
              "      <td>23.0</td>\n",
              "      <td>208.28</td>\n",
              "      <td>102.965384</td>\n",
              "      <td>-9.820485</td>\n",
              "      <td>2</td>\n",
              "    </tr>\n",
              "    <tr>\n",
              "      <th>2</th>\n",
              "      <td>24.0</td>\n",
              "      <td>185.42</td>\n",
              "      <td>81.646560</td>\n",
              "      <td>-5.574582</td>\n",
              "      <td>1</td>\n",
              "    </tr>\n",
              "    <tr>\n",
              "      <th>3</th>\n",
              "      <td>28.1</td>\n",
              "      <td>182.88</td>\n",
              "      <td>73.028312</td>\n",
              "      <td>-2.370531</td>\n",
              "      <td>1</td>\n",
              "    </tr>\n",
              "    <tr>\n",
              "      <th>4</th>\n",
              "      <td>26.0</td>\n",
              "      <td>213.36</td>\n",
              "      <td>122.469840</td>\n",
              "      <td>-2.781982</td>\n",
              "      <td>3</td>\n",
              "    </tr>\n",
              "  </tbody>\n",
              "</table>\n",
              "</div>"
            ],
            "text/plain": [
              "    age  player_height  player_weight  raptor_total  pos\n",
              "0  35.0         205.74     102.058200     -0.085252    2\n",
              "1  23.0         208.28     102.965384     -9.820485    2\n",
              "2  24.0         185.42      81.646560     -5.574582    1\n",
              "3  28.1         182.88      73.028312     -2.370531    1\n",
              "4  26.0         213.36     122.469840     -2.781982    3"
            ]
          },
          "metadata": {
            "tags": []
          },
          "execution_count": 10
        }
      ]
    },
    {
      "cell_type": "code",
      "metadata": {
        "id": "amiQBVFv-vTr",
        "colab_type": "code",
        "colab": {
          "base_uri": "https://localhost:8080/",
          "height": 35
        },
        "outputId": "2d3cac10-5f49-4205-85ab-2c894e257f12"
      },
      "source": [
        "df['raptor_total'].mean()"
      ],
      "execution_count": 11,
      "outputs": [
        {
          "output_type": "execute_result",
          "data": {
            "text/plain": [
              "-2.5172282934710326"
            ]
          },
          "metadata": {
            "tags": []
          },
          "execution_count": 11
        }
      ]
    },
    {
      "cell_type": "code",
      "metadata": {
        "id": "DUW9K-EdYUFG",
        "colab_type": "code",
        "colab": {}
      },
      "source": [
        ""
      ],
      "execution_count": 11,
      "outputs": []
    },
    {
      "cell_type": "code",
      "metadata": {
        "id": "60EciXYELa_o",
        "colab_type": "code",
        "colab": {}
      },
      "source": [
        "df4 = df\n",
        "df5 = df"
      ],
      "execution_count": 12,
      "outputs": []
    },
    {
      "cell_type": "markdown",
      "metadata": {
        "id": "jVLmvhZY98ln",
        "colab_type": "text"
      },
      "source": [
        "#The opposite of DRY"
      ]
    },
    {
      "cell_type": "code",
      "metadata": {
        "id": "crb6UjTO36sF",
        "colab_type": "code",
        "colab": {}
      },
      "source": [
        "newlist2 = []\n",
        "for items in df['age']:\n",
        "  rounded = round(items)\n",
        "  newlist2.append(rounded)"
      ],
      "execution_count": 13,
      "outputs": []
    },
    {
      "cell_type": "code",
      "metadata": {
        "id": "LlkZCrs54VyJ",
        "colab_type": "code",
        "colab": {}
      },
      "source": [
        "df.drop(['age'], axis=1)\n",
        "df['age'] = newlist2"
      ],
      "execution_count": 14,
      "outputs": []
    },
    {
      "cell_type": "code",
      "metadata": {
        "id": "xhti7xCH5PRK",
        "colab_type": "code",
        "colab": {}
      },
      "source": [
        "newlist3 = []\n",
        "for items in df['player_height']:\n",
        "  rounded = round(items)\n",
        "  newlist3.append(rounded)"
      ],
      "execution_count": 15,
      "outputs": []
    },
    {
      "cell_type": "code",
      "metadata": {
        "id": "I763DEDQ6Aln",
        "colab_type": "code",
        "colab": {}
      },
      "source": [
        "df.drop(['player_height'], axis=1)\n",
        "df['player_height'] = newlist3"
      ],
      "execution_count": 16,
      "outputs": []
    },
    {
      "cell_type": "code",
      "metadata": {
        "id": "KBpFMuQf6ost",
        "colab_type": "code",
        "colab": {}
      },
      "source": [
        "newlist4 = []\n",
        "for items in df['player_weight']:\n",
        "  rounded = round(items)\n",
        "  newlist4.append(rounded)"
      ],
      "execution_count": 17,
      "outputs": []
    },
    {
      "cell_type": "code",
      "metadata": {
        "id": "Cm1ymfCH6osF",
        "colab_type": "code",
        "colab": {}
      },
      "source": [
        "df.drop(['player_weight'], axis=1)\n",
        "df['player_weight'] = newlist4"
      ],
      "execution_count": 18,
      "outputs": []
    },
    {
      "cell_type": "markdown",
      "metadata": {
        "id": "6NHfH01M-CsZ",
        "colab_type": "text"
      },
      "source": [
        "# Couldve just used this function instead\n",
        "\n",
        "```\n",
        "def rounding(df, listnum):\n",
        "  for items in df:\n",
        "    rounded = round(items)\n",
        "    listnum.append(rounded)\n",
        "```\n",
        "```\n",
        "rounding(df['player_height'], newlist3)\n",
        "```"
      ]
    },
    {
      "cell_type": "markdown",
      "metadata": {
        "id": "RRR1EiN3SL-A",
        "colab_type": "text"
      },
      "source": [
        "# Using the average RAPTOR Score we will be able to tell if the player is above or below average by appending it to a feature."
      ]
    },
    {
      "cell_type": "code",
      "metadata": {
        "id": "KY7X5DTVcw4e",
        "colab_type": "code",
        "colab": {
          "base_uri": "https://localhost:8080/",
          "height": 0
        },
        "outputId": "d499c516-e9fd-4b35-c8ec-ccf019706b5f"
      },
      "source": [
        "df['raptor_total'].mean()"
      ],
      "execution_count": 19,
      "outputs": [
        {
          "output_type": "execute_result",
          "data": {
            "text/plain": [
              "-2.5172282934710326"
            ]
          },
          "metadata": {
            "tags": []
          },
          "execution_count": 19
        }
      ]
    },
    {
      "cell_type": "code",
      "metadata": {
        "id": "ffJFikuvxz6a",
        "colab_type": "code",
        "colab": {}
      },
      "source": [
        "newlist = []\n",
        "averagepred = -2.5172282934710326\n",
        "for items in df['raptor_total']:\n",
        "  if items > averagepred:\n",
        "    newlist.append(1)\n",
        "  elif items < averagepred:\n",
        "    newlist.append(0)"
      ],
      "execution_count": 20,
      "outputs": []
    },
    {
      "cell_type": "code",
      "metadata": {
        "id": "k_Et8TXayglu",
        "colab_type": "code",
        "colab": {}
      },
      "source": [
        "df['aboveaverage'] = newlist"
      ],
      "execution_count": 21,
      "outputs": []
    },
    {
      "cell_type": "code",
      "metadata": {
        "id": "yYfIkXBA7RkF",
        "colab_type": "code",
        "colab": {
          "base_uri": "https://localhost:8080/",
          "height": 0
        },
        "outputId": "cfec7530-63da-4210-c293-7d4e0e92a2c2"
      },
      "source": [
        "df.drop(['raptor_total'], axis=1)"
      ],
      "execution_count": 22,
      "outputs": [
        {
          "output_type": "execute_result",
          "data": {
            "text/html": [
              "<div>\n",
              "<style scoped>\n",
              "    .dataframe tbody tr th:only-of-type {\n",
              "        vertical-align: middle;\n",
              "    }\n",
              "\n",
              "    .dataframe tbody tr th {\n",
              "        vertical-align: top;\n",
              "    }\n",
              "\n",
              "    .dataframe thead th {\n",
              "        text-align: right;\n",
              "    }\n",
              "</style>\n",
              "<table border=\"1\" class=\"dataframe\">\n",
              "  <thead>\n",
              "    <tr style=\"text-align: right;\">\n",
              "      <th></th>\n",
              "      <th>age</th>\n",
              "      <th>player_height</th>\n",
              "      <th>player_weight</th>\n",
              "      <th>pos</th>\n",
              "      <th>aboveaverage</th>\n",
              "    </tr>\n",
              "  </thead>\n",
              "  <tbody>\n",
              "    <tr>\n",
              "      <th>0</th>\n",
              "      <td>35</td>\n",
              "      <td>206</td>\n",
              "      <td>102</td>\n",
              "      <td>2</td>\n",
              "      <td>1</td>\n",
              "    </tr>\n",
              "    <tr>\n",
              "      <th>1</th>\n",
              "      <td>23</td>\n",
              "      <td>208</td>\n",
              "      <td>103</td>\n",
              "      <td>2</td>\n",
              "      <td>0</td>\n",
              "    </tr>\n",
              "    <tr>\n",
              "      <th>2</th>\n",
              "      <td>24</td>\n",
              "      <td>185</td>\n",
              "      <td>82</td>\n",
              "      <td>1</td>\n",
              "      <td>0</td>\n",
              "    </tr>\n",
              "    <tr>\n",
              "      <th>3</th>\n",
              "      <td>28</td>\n",
              "      <td>183</td>\n",
              "      <td>73</td>\n",
              "      <td>1</td>\n",
              "      <td>1</td>\n",
              "    </tr>\n",
              "    <tr>\n",
              "      <th>4</th>\n",
              "      <td>26</td>\n",
              "      <td>213</td>\n",
              "      <td>122</td>\n",
              "      <td>3</td>\n",
              "      <td>0</td>\n",
              "    </tr>\n",
              "    <tr>\n",
              "      <th>...</th>\n",
              "      <td>...</td>\n",
              "      <td>...</td>\n",
              "      <td>...</td>\n",
              "      <td>...</td>\n",
              "      <td>...</td>\n",
              "    </tr>\n",
              "    <tr>\n",
              "      <th>1159</th>\n",
              "      <td>28</td>\n",
              "      <td>206</td>\n",
              "      <td>116</td>\n",
              "      <td>2</td>\n",
              "      <td>1</td>\n",
              "    </tr>\n",
              "    <tr>\n",
              "      <th>1160</th>\n",
              "      <td>29</td>\n",
              "      <td>213</td>\n",
              "      <td>112</td>\n",
              "      <td>3</td>\n",
              "      <td>0</td>\n",
              "    </tr>\n",
              "    <tr>\n",
              "      <th>1161</th>\n",
              "      <td>28</td>\n",
              "      <td>211</td>\n",
              "      <td>123</td>\n",
              "      <td>3</td>\n",
              "      <td>1</td>\n",
              "    </tr>\n",
              "    <tr>\n",
              "      <th>1162</th>\n",
              "      <td>32</td>\n",
              "      <td>213</td>\n",
              "      <td>118</td>\n",
              "      <td>3</td>\n",
              "      <td>0</td>\n",
              "    </tr>\n",
              "    <tr>\n",
              "      <th>1163</th>\n",
              "      <td>28</td>\n",
              "      <td>211</td>\n",
              "      <td>114</td>\n",
              "      <td>3</td>\n",
              "      <td>0</td>\n",
              "    </tr>\n",
              "  </tbody>\n",
              "</table>\n",
              "<p>1164 rows × 5 columns</p>\n",
              "</div>"
            ],
            "text/plain": [
              "      age  player_height  player_weight  pos  aboveaverage\n",
              "0      35            206            102    2             1\n",
              "1      23            208            103    2             0\n",
              "2      24            185             82    1             0\n",
              "3      28            183             73    1             1\n",
              "4      26            213            122    3             0\n",
              "...   ...            ...            ...  ...           ...\n",
              "1159   28            206            116    2             1\n",
              "1160   29            213            112    3             0\n",
              "1161   28            211            123    3             1\n",
              "1162   32            213            118    3             0\n",
              "1163   28            211            114    3             0\n",
              "\n",
              "[1164 rows x 5 columns]"
            ]
          },
          "metadata": {
            "tags": []
          },
          "execution_count": 22
        }
      ]
    },
    {
      "cell_type": "markdown",
      "metadata": {
        "id": "9ItqE0sPSYTz",
        "colab_type": "text"
      },
      "source": [
        "# Baseline\n"
      ]
    },
    {
      "cell_type": "code",
      "metadata": {
        "id": "EKh0YoVUO88W",
        "colab_type": "code",
        "colab": {
          "base_uri": "https://localhost:8080/",
          "height": 72
        },
        "outputId": "8ced45e4-c014-4526-f26d-868b26226d18"
      },
      "source": [
        "df['aboveaverage'].value_counts(normalize=True)"
      ],
      "execution_count": 23,
      "outputs": [
        {
          "output_type": "execute_result",
          "data": {
            "text/plain": [
              "1    0.530069\n",
              "0    0.469931\n",
              "Name: aboveaverage, dtype: float64"
            ]
          },
          "metadata": {
            "tags": []
          },
          "execution_count": 23
        }
      ]
    },
    {
      "cell_type": "markdown",
      "metadata": {
        "id": "hgHA5kmzSbeO",
        "colab_type": "text"
      },
      "source": [
        "# Train/Validation Split"
      ]
    },
    {
      "cell_type": "code",
      "metadata": {
        "id": "OH1gYNBLvMyk",
        "colab_type": "code",
        "colab": {}
      },
      "source": [
        "X = df.drop(['aboveaverage', 'raptor_total'], axis=1)\n",
        "y = df['aboveaverage']"
      ],
      "execution_count": 24,
      "outputs": []
    },
    {
      "cell_type": "code",
      "metadata": {
        "id": "G2pz7o-gvzLT",
        "colab_type": "code",
        "colab": {}
      },
      "source": [
        "from sklearn.model_selection import train_test_split\n",
        "\n",
        "X_train, X_val, y_train, y_val = train_test_split(X, y, test_size=0.2, random_state=42)"
      ],
      "execution_count": 25,
      "outputs": []
    },
    {
      "cell_type": "markdown",
      "metadata": {
        "id": "skFSn0i3SgZW",
        "colab_type": "text"
      },
      "source": [
        "# Model Fitting\n"
      ]
    },
    {
      "cell_type": "code",
      "metadata": {
        "id": "0IgwSsrkwD6K",
        "colab_type": "code",
        "colab": {}
      },
      "source": [
        "from sklearn.ensemble import RandomForestClassifier\n",
        "from sklearn.preprocessing import OneHotEncoder\n",
        "from sklearn.pipeline import make_pipeline\n",
        "from sklearn.impute import SimpleImputer\n",
        "model = make_pipeline(\n",
        "    RandomForestClassifier(n_jobs=1, random_state=42, max_depth=10)\n",
        "  )"
      ],
      "execution_count": 26,
      "outputs": []
    },
    {
      "cell_type": "code",
      "metadata": {
        "id": "EF314WiuwJOU",
        "colab_type": "code",
        "colab": {
          "base_uri": "https://localhost:8080/",
          "height": 274
        },
        "outputId": "9ab1fe24-36ae-4d0e-ff2d-ed46aa57be44"
      },
      "source": [
        "model.fit(X_train, y_train)"
      ],
      "execution_count": 27,
      "outputs": [
        {
          "output_type": "execute_result",
          "data": {
            "text/plain": [
              "Pipeline(memory=None,\n",
              "         steps=[('randomforestclassifier',\n",
              "                 RandomForestClassifier(bootstrap=True, ccp_alpha=0.0,\n",
              "                                        class_weight=None, criterion='gini',\n",
              "                                        max_depth=10, max_features='auto',\n",
              "                                        max_leaf_nodes=None, max_samples=None,\n",
              "                                        min_impurity_decrease=0.0,\n",
              "                                        min_impurity_split=None,\n",
              "                                        min_samples_leaf=1, min_samples_split=2,\n",
              "                                        min_weight_fraction_leaf=0.0,\n",
              "                                        n_estimators=100, n_jobs=1,\n",
              "                                        oob_score=False, random_state=42,\n",
              "                                        verbose=0, warm_start=False))],\n",
              "         verbose=False)"
            ]
          },
          "metadata": {
            "tags": []
          },
          "execution_count": 27
        }
      ]
    },
    {
      "cell_type": "code",
      "metadata": {
        "id": "Y-BiL2_BxPDX",
        "colab_type": "code",
        "colab": {
          "base_uri": "https://localhost:8080/",
          "height": 54
        },
        "outputId": "f82bdf4c-3dc8-4552-baf5-4b69881ac103"
      },
      "source": [
        "training_acc = model.score(X_train, y_train)\n",
        "print('Training Accuracy Score:', training_acc)\n",
        "\n",
        "validation_acc = model.score(X_val, y_val)\n",
        "print('Validation Accuracy Score:', validation_acc)"
      ],
      "execution_count": 28,
      "outputs": [
        {
          "output_type": "stream",
          "text": [
            "Training Accuracy Score: 0.8646616541353384\n",
            "Validation Accuracy Score: 0.6609442060085837\n"
          ],
          "name": "stdout"
        }
      ]
    },
    {
      "cell_type": "markdown",
      "metadata": {
        "id": "6CnDBr06SlRg",
        "colab_type": "text"
      },
      "source": [
        "# Predicting \"That Golden State Player\" \n",
        "\n",
        "\n"
      ]
    },
    {
      "cell_type": "code",
      "metadata": {
        "id": "teuf_kl-BpZw",
        "colab_type": "code",
        "colab": {}
      },
      "source": [
        "def testplayer(name, age, height, weight, pos):\n",
        "  d = {'age': [age], 'player_height': [height], 'player_weight': [weight], 'pos': [pos]}\n",
        "  name = pd.DataFrame(data=d)\n",
        "  pred = model.predict(name)\n",
        "  if pred == 1:\n",
        "    print('This player is Above Average')\n",
        "  else:\n",
        "      print('This Player is Below Average')"
      ],
      "execution_count": 29,
      "outputs": []
    },
    {
      "cell_type": "code",
      "metadata": {
        "id": "epqYYjYsCTdo",
        "colab_type": "code",
        "colab": {
          "base_uri": "https://localhost:8080/",
          "height": 35
        },
        "outputId": "567f48c2-2949-423a-c36d-a4b4066f9448"
      },
      "source": [
        "testplayer('stephcurry', 26, 190, 84, 1)"
      ],
      "execution_count": 30,
      "outputs": [
        {
          "output_type": "stream",
          "text": [
            "This player is Above Average\n"
          ],
          "name": "stdout"
        }
      ]
    },
    {
      "cell_type": "markdown",
      "metadata": {
        "id": "M5rsk353QuXa",
        "colab_type": "text"
      },
      "source": [
        "# Permutation Importance"
      ]
    },
    {
      "cell_type": "code",
      "metadata": {
        "id": "c2OrmyppCjLd",
        "colab_type": "code",
        "colab": {}
      },
      "source": [
        "from sklearn.inspection import permutation_importance"
      ],
      "execution_count": 31,
      "outputs": []
    },
    {
      "cell_type": "code",
      "metadata": {
        "id": "TXrBca6QKmAE",
        "colab_type": "code",
        "colab": {}
      },
      "source": [
        "perm_imp = permutation_importance(model, X_val, y_val, n_jobs=-1)"
      ],
      "execution_count": 32,
      "outputs": []
    },
    {
      "cell_type": "code",
      "metadata": {
        "id": "26zk3TB8KmI9",
        "colab_type": "code",
        "colab": {}
      },
      "source": [
        "data = {'importances_mean' : perm_imp['importances_mean'],\n",
        "        'importances_std' : perm_imp['importances_std']}\n",
        "\n",
        "df = pd.DataFrame(data, index=X_train.columns)\n",
        "df.sort_values('importances_mean', ascending=False, inplace=True)"
      ],
      "execution_count": 33,
      "outputs": []
    },
    {
      "cell_type": "code",
      "metadata": {
        "id": "1lOX2wVlKmH-",
        "colab_type": "code",
        "colab": {
          "base_uri": "https://localhost:8080/",
          "height": 265
        },
        "outputId": "af3ac0c1-7c7e-4f0d-8bc9-824120bd610c"
      },
      "source": [
        "df.head(10).importances_mean.plot(kind='barh');"
      ],
      "execution_count": 34,
      "outputs": [
        {
          "output_type": "display_data",
          "data": {
            "image/png": "[encoded data removed]",
            "text/plain": [
              "<Figure size 432x288 with 1 Axes>"
            ]
          },
          "metadata": {
            "tags": [],
            "needs_background": "light"
          }
        }
      ]
    },
    {
      "cell_type": "markdown",
      "metadata": {
        "id": "QfoL0vlSQ5Kj",
        "colab_type": "text"
      },
      "source": [
        "# Linear Regression\n"
      ]
    },
    {
      "cell_type": "code",
      "metadata": {
        "id": "m4HOgp-UzG5z",
        "colab_type": "code",
        "colab": {}
      },
      "source": [
        "X1 = df4.drop(['aboveaverage', 'raptor_total'], axis=1)\n",
        "y1 = df4['raptor_total']"
      ],
      "execution_count": 35,
      "outputs": []
    },
    {
      "cell_type": "code",
      "metadata": {
        "id": "6kIIpwRZzOVO",
        "colab_type": "code",
        "colab": {}
      },
      "source": [
        "y_pred = [y1.mean()] * len(y)"
      ],
      "execution_count": 36,
      "outputs": []
    },
    {
      "cell_type": "code",
      "metadata": {
        "id": "3HspRkcPzWr5",
        "colab_type": "code",
        "colab": {
          "base_uri": "https://localhost:8080/",
          "height": 35
        },
        "outputId": "f7f214dd-b9bc-4acb-fbcc-acbd6a385175"
      },
      "source": [
        "from sklearn.metrics import mean_absolute_error\n",
        "from sklearn.linear_model import LinearRegression\n",
        "mean_absolute_error(y, y_pred)"
      ],
      "execution_count": 39,
      "outputs": [
        {
          "output_type": "execute_result",
          "data": {
            "text/plain": [
              "3.047297021993369"
            ]
          },
          "metadata": {
            "tags": []
          },
          "execution_count": 39
        }
      ]
    },
    {
      "cell_type": "code",
      "metadata": {
        "id": "tOHrTx9x1NQ2",
        "colab_type": "code",
        "colab": {}
      },
      "source": [
        "X1_train, X1_val, y1_train, y1_val = train_test_split(X1, y1, test_size=0.2, random_state=42)"
      ],
      "execution_count": 41,
      "outputs": []
    },
    {
      "cell_type": "code",
      "metadata": {
        "id": "u7Q_ZW3ezb3f",
        "colab_type": "code",
        "colab": {}
      },
      "source": [
        "model2 = LinearRegression()\n",
        "model2.fit(X1_train, y1_train)\n",
        "y_pred = model.predict(X1)"
      ],
      "execution_count": 45,
      "outputs": []
    },
    {
      "cell_type": "code",
      "metadata": {
        "id": "qN9n3XVdN6Xc",
        "colab_type": "code",
        "colab": {
          "base_uri": "https://localhost:8080/",
          "height": 880
        },
        "outputId": "543a82b3-8e2d-44a6-fe7a-4dff93521aba"
      },
      "source": [
        "model2.predict(X_val)\n"
      ],
      "execution_count": 46,
      "outputs": [
        {
          "output_type": "execute_result",
          "data": {
            "text/plain": [
              "array([-1.17731051, -1.61959997, -2.59090022, -2.42282817, -4.27227636,\n",
              "       -2.17862528, -2.6565168 , -1.95429208, -3.11487802, -0.88541165,\n",
              "       -3.82632446, -3.24031452, -3.00646819, -1.80838337, -4.72041649,\n",
              "       -1.92683436, -0.80472268, -0.44631155, -1.73119915, -2.42282817,\n",
              "       -1.66484458, -1.58196738, -2.83054496, -3.90203445, -3.45389432,\n",
              "        0.23946679, -2.44557005, -3.70070626, -1.19918069, -1.51413859,\n",
              "       -2.67137747, -4.13761814, -2.08568469, -2.04323083, -1.0635231 ,\n",
              "       -3.79378232, -3.80137036, -4.77570051, -3.81449367, -2.11806913,\n",
              "       -2.88306222, -2.66964011, -1.17731051, -2.74798316, -0.17104076,\n",
              "       -1.9920301 , -1.95674344, -3.177307  , -3.83902694, -3.17266742,\n",
              "       -2.98151409, -3.33225574, -4.82956432, -0.29618409, -2.33676162,\n",
              "       -5.06962989, -3.81449367, -2.36446024, -2.72742951, -2.15865016,\n",
              "       -3.78621652, -2.32917358, -1.03377172, -3.01714014, -3.46219636,\n",
              "       -3.23069595, -2.71456933, -3.43286581, -1.85199606, -4.9262488 ,\n",
              "        1.1882643 , -4.25433177, -3.14315517, -1.90904747, -1.20779989,\n",
              "       -3.20120771, -1.92918029, -2.51542937, -0.59116687, -2.67185233,\n",
              "        0.33881436, -3.66850352, -4.52169736, -3.7660837 , -0.66118389,\n",
              "       -2.71122228, -0.60199652, -0.11765181, -3.22995796, -3.89502495,\n",
              "       -3.45405202, -2.82983096, -1.38053376,  1.81770524, -2.2743104 ,\n",
              "       -3.06702434, -1.73836636, -4.63174088, -3.33863269, -5.09284663,\n",
              "       -4.50132541, -1.65783508, -3.177307  , -1.64674229, -3.26281725,\n",
              "       -2.51542937, -4.28450398, -4.38052849, -1.08365592, -2.54362508,\n",
              "       -3.0696334 , -2.17625536, -1.75849917, -1.86617277, -1.89389363,\n",
              "       -2.05024033, -3.12244382, -2.45811483, -3.22049886, -3.93969103,\n",
              "       -2.82527282, -1.30888482, -4.0811993 , -1.51983157, -2.26379614,\n",
              "       -2.96593942, -0.62065512, -4.53922112, -1.53996439, -4.0801459 ,\n",
              "       -0.99553661, -4.12349546, -1.19190805, -0.05725335, -2.12376211,\n",
              "       -1.95266016, -2.1666368 , -2.91631835, -3.9975841 , -2.14054787,\n",
              "       -2.65417087, -0.16798084, -2.40472588, -0.98346669, -1.28701464,\n",
              "       -1.90467102, -2.23111854,  0.74826851, -4.60673276, -4.10900159,\n",
              "       -3.6910877 , -1.38941609, -2.10362929, -1.51983157, -3.52014345,\n",
              "       -2.41566096, -4.01315878, -3.3759721 , -1.12890054, -2.22613956,\n",
              "       -2.8451425 , -3.21056313, -3.07664291, -3.64512909, -1.23755127,\n",
              "        0.62486254, -1.30161218,  1.48496045, -1.64486946, -0.37147325,\n",
              "       -4.14159775, -2.54075289, -3.21554211, -3.14054612, -4.16679099,\n",
              "       -2.70713899, -3.57247901, -1.03580225, -3.56768173, -5.34684977,\n",
              "       -1.55675015, -2.07256138, -3.49985294, -0.77905458, -2.44061506,\n",
              "       -0.36446375, -6.18707799, -2.85257284, -1.70013124, -3.57730029,\n",
              "       -3.30308289, -2.57877627, -5.1507397 ,  0.23203645, -3.35647184,\n",
              "       -3.27269895, -2.55324364, -3.50230429, -2.09311503, -3.61772363,\n",
              "       -0.75483848, -2.74447841, -2.10526121, -3.29549486, -3.54754891,\n",
              "       -2.88337762, -3.50712557, -2.06483788, -3.07664291, -3.59932817,\n",
              "       -1.77863199, -0.83700168, -1.94696718, -3.02633787, -0.4099715 ,\n",
              "       -2.73731121, -2.35484167, -4.11340204, -3.36927976, -3.20078687,\n",
              "       -2.27694345, -4.48583217, -1.78825056, -3.25082877, -1.05856812,\n",
              "       -1.4793028 , -0.15791744, -4.51866747, -1.80577432, -4.00066802,\n",
              "       -1.86878183, -1.67999842, -3.96040238])"
            ]
          },
          "metadata": {
            "tags": []
          },
          "execution_count": 46
        }
      ]
    },
    {
      "cell_type": "code",
      "metadata": {
        "id": "1wfRFTyaHRed",
        "colab_type": "code",
        "colab": {
          "base_uri": "https://localhost:8080/",
          "height": 35
        },
        "outputId": "686174a9-b634-4130-c997-83921d93ee39"
      },
      "source": [
        "y1.min()"
      ],
      "execution_count": 54,
      "outputs": [
        {
          "output_type": "execute_result",
          "data": {
            "text/plain": [
              "-37.92562198"
            ]
          },
          "metadata": {
            "tags": []
          },
          "execution_count": 54
        }
      ]
    },
    {
      "cell_type": "code",
      "metadata": {
        "id": "9KMteeVTHrXq",
        "colab_type": "code",
        "colab": {}
      },
      "source": [
        ""
      ],
      "execution_count": null,
      "outputs": []
    }
  ]
}